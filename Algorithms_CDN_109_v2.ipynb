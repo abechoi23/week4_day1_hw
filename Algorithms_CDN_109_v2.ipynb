{
 "cells": [
  {
   "cell_type": "markdown",
   "metadata": {},
   "source": [
    "# Classic Algorithms"
   ]
  },
  {
   "cell_type": "markdown",
   "metadata": {},
   "source": [
    "## Tasks Today:\n",
    " \n",
    "1) <b>In-Place Algorithms</b> <br>\n",
    " &nbsp;&nbsp;&nbsp;&nbsp; a) Syntax <br>\n",
    " &nbsp;&nbsp;&nbsp;&nbsp; a) Out of Place Algorithm <br>\n",
    " &nbsp;&nbsp;&nbsp;&nbsp; b) In-Class Exercise #1 <br>\n",
    "2) <b>Two Pointers</b> <br>\n",
    "3) <b>Sorting Algorithms</b> <br>\n",
    "4) <b>Merge Sort</b> <br>\n",
    " &nbsp;&nbsp;&nbsp;&nbsp; a) Video on Algorithms <br>\n",
    " &nbsp;&nbsp;&nbsp;&nbsp; b) How it Works <br>\n",
    "5) <b>Exercises</b> <br>\n",
    " &nbsp;&nbsp;&nbsp;&nbsp; a) Exercise #1 - Reverse a List in Place Using an In-Place Algorithm <br>\n",
    " &nbsp;&nbsp;&nbsp;&nbsp; b) Exercise #2 - Find Distinct Words <br>\n",
    " &nbsp;&nbsp;&nbsp;&nbsp; c) Exercise #3 - Write a program to implement a Linear Search Algorithm. <br>"
   ]
  },
  {
   "cell_type": "markdown",
   "metadata": {},
   "source": [
    "## In-Place Algorithms"
   ]
  },
  {
   "cell_type": "markdown",
   "metadata": {},
   "source": [
    "#### Syntax"
   ]
  },
  {
   "cell_type": "code",
   "execution_count": 17,
   "metadata": {},
   "outputs": [
    {
     "name": "stdout",
     "output_type": "stream",
     "text": [
      "[1, 5, 3, 4, 2]\n"
     ]
    }
   ],
   "source": [
    "# An algorithm that modifies an input parameter's value,\n",
    "# such that the changes inside of the algorithm function\n",
    "# reflect in the variable, outside of the function\n",
    "a_list = [1,2,3,4,5]\n",
    "\n",
    "def swap(input_list, i, j):\n",
    "    temp = input_list[i]\n",
    "    input_list[i] = input_list[j]\n",
    "    input_list[j] = temp\n",
    "    \n",
    "    return input_list\n",
    "\n",
    "swap(a_list, 1, 4)\n",
    "\n",
    "print(a_list)"
   ]
  },
  {
   "cell_type": "code",
   "execution_count": 23,
   "metadata": {},
   "outputs": [],
   "source": [
    "a_list = [[1,2],[3,4],[5,6]]\n",
    "\n",
    "def swap_sublist(input_list, inner_list, i, j):\n",
    "    input_list = input_list[inner_list]\n",
    "    \n",
    "    temp = input_list[i]\n",
    "    input_list[i] = input_list[j]\n",
    "    input_list[j] = temp\n",
    "    \n",
    "#     return input_list\n",
    "\n",
    "swap_sublist(a_list, 2, 0, 1)"
   ]
  },
  {
   "cell_type": "code",
   "execution_count": 24,
   "metadata": {},
   "outputs": [
    {
     "data": {
      "text/plain": [
       "[[1, 2], [3, 4], [6, 5]]"
      ]
     },
     "execution_count": 24,
     "metadata": {},
     "output_type": "execute_result"
    }
   ],
   "source": [
    "a_list"
   ]
  },
  {
   "cell_type": "code",
   "execution_count": 28,
   "metadata": {},
   "outputs": [
    {
     "name": "stdout",
     "output_type": "stream",
     "text": [
      "[1, 5, 3, 4, 2]\n"
     ]
    }
   ],
   "source": [
    "a_list = [1,2,3,4,5]\n",
    "\n",
    "def swap(input_list, i, j):\n",
    "    a_list[i], a_list[j] = a_list[j], a_list[i]\n",
    "    \n",
    "    return input_list\n",
    "\n",
    "swap(a_list, 1, 4)\n",
    "\n",
    "print(a_list)"
   ]
  },
  {
   "cell_type": "code",
   "execution_count": 30,
   "metadata": {},
   "outputs": [],
   "source": [
    "x, y, z = 10, 20, 30"
   ]
  },
  {
   "cell_type": "code",
   "execution_count": 35,
   "metadata": {},
   "outputs": [
    {
     "data": {
      "text/plain": [
       "30"
      ]
     },
     "execution_count": 35,
     "metadata": {},
     "output_type": "execute_result"
    }
   ],
   "source": [
    "z"
   ]
  },
  {
   "cell_type": "markdown",
   "metadata": {},
   "source": [
    "#### Out of Place Algorithm"
   ]
  },
  {
   "cell_type": "code",
   "execution_count": 37,
   "metadata": {},
   "outputs": [
    {
     "name": "stdout",
     "output_type": "stream",
     "text": [
      "[1, 5, 3, 4, 2]\n",
      "[1, 2, 3, 4, 5]\n"
     ]
    }
   ],
   "source": [
    "# An out of place algorithm, is an algorithm that DOES NOT modify the passed in variable\n",
    "\n",
    "a_list = [1,2,3,4,5]\n",
    "\n",
    "def swap(input_list, i, j):\n",
    "    input_list = input_list[:]\n",
    "    a_list[i], a_list[j] = a_list[j], a_list[i]\n",
    "    \n",
    "    return input_list\n",
    "\n",
    "swapped_list = swap(a_list, 1, 4)\n",
    "\n",
    "\n",
    "print(a_list)\n",
    "print(swapped_list)"
   ]
  },
  {
   "cell_type": "markdown",
   "metadata": {},
   "source": [
    "#### In-Class Exercise #1 <br>\n",
    "<p>Write a function that takes in four arguments (list, index1, index2, index3), and swaps those three positions in the list passed in.</p>"
   ]
  },
  {
   "cell_type": "code",
   "execution_count": 57,
   "metadata": {},
   "outputs": [
    {
     "name": "stdout",
     "output_type": "stream",
     "text": [
      "[1, 3, 2, 4, 5]\n",
      "[1, 2, 3, 4, 5]\n"
     ]
    }
   ],
   "source": [
    "#Out of place\n",
    "\n",
    "a_list = [1,2,3,4,5]\n",
    "\n",
    "def swap(input_list, i, j, y):\n",
    "    input_list = input_list[:]\n",
    "    a_list[i], a_list[j], a_list[y] = a_list[y], a_list[j], a_list[i]\n",
    "    \n",
    "    return input_list\n",
    "\n",
    "swapped_list = swap(a_list, 1, 4, 2)\n",
    "\n",
    "\n",
    "print(a_list)\n",
    "print(swapped_list)"
   ]
  },
  {
   "cell_type": "code",
   "execution_count": 56,
   "metadata": {},
   "outputs": [
    {
     "name": "stdout",
     "output_type": "stream",
     "text": [
      "[1, 4, 3, 2, 5]\n",
      "[1, 4, 3, 2, 5]\n"
     ]
    }
   ],
   "source": [
    "# In place\n",
    "\n",
    "a_list = [1,2,3,4,5]\n",
    "\n",
    "def swap(input_list, i, j, y):\n",
    "    a_list[i], a_list[j], a_list[y] = a_list[y], a_list[j], a_list[i]\n",
    "    \n",
    "    return input_list\n",
    "\n",
    "swapped_list = swap(a_list, 1, 4, 3)\n",
    "\n",
    "print(a_list)\n",
    "print(swapped_list)"
   ]
  },
  {
   "cell_type": "markdown",
   "metadata": {},
   "source": [
    "## Two Pointers"
   ]
  },
  {
   "cell_type": "markdown",
   "metadata": {},
   "source": [
    "#### Syntax"
   ]
  },
  {
   "cell_type": "code",
   "execution_count": 78,
   "metadata": {},
   "outputs": [],
   "source": [
    "# Reverse a list\n",
    "a_list = [1,2,3,4,5]\n",
    "#[5,2,3,4,1] 1st iteration\n",
    "#[5,4,3,2,1] 2nd iteration\n",
    "\n",
    "def reverse(a_list):\n",
    "    left = 0\n",
    "    right = len(a_list) - 1\n",
    "    \n",
    "    while left <= right:\n",
    "        a_list[left], a_list[right] = a_list[right], a_list[left]\n",
    "        left += 1\n",
    "        right -= 1\n",
    "        \n",
    "    return a_list\n",
    "\n",
    "    \n",
    "    "
   ]
  },
  {
   "cell_type": "code",
   "execution_count": 82,
   "metadata": {},
   "outputs": [
    {
     "name": "stdout",
     "output_type": "stream",
     "text": [
      "[1, 2, 3, 4, 5]\n",
      "[5, 4, 3, 2, 1]\n"
     ]
    }
   ],
   "source": [
    "print(a_list)\n",
    "print(reverse(a_list))"
   ]
  },
  {
   "cell_type": "markdown",
   "metadata": {},
   "source": [
    "# Two Sum"
   ]
  },
  {
   "cell_type": "code",
   "execution_count": 134,
   "metadata": {},
   "outputs": [
    {
     "name": "stdout",
     "output_type": "stream",
     "text": [
      "[(2, 5)]\n"
     ]
    }
   ],
   "source": [
    "# The two sum problem is stated as follows: given an unsorted list and a number S,\n",
    "# find all the pairs of numbers in that list such that their sum equals S.\n",
    "# For example, if the list is [3,5,2,-4,8] and the value of S is 7,\n",
    "# then the program should return pairs (2,5) since they are equal to 7\n",
    "\n",
    "def two_sum(a_list, target):\n",
    "    result = []\n",
    "    for i in range(len(a_list)):\n",
    "        for n in range(i+1):\n",
    "            if a_list[i] + a_list[n] == target:\n",
    "                result.append((a_list[i], a_list[n]))\n",
    "    return result\n",
    "\n",
    "print(two_sum([3,5,2,-4,8], 7))"
   ]
  },
  {
   "cell_type": "code",
   "execution_count": 155,
   "metadata": {},
   "outputs": [
    {
     "name": "stdout",
     "output_type": "stream",
     "text": [
      "(5, 2)\n"
     ]
    }
   ],
   "source": [
    "def two_sum(a_list, target):\n",
    "    for i in range(len(a_list)):\n",
    "        for j in range(i+1, len(a_list)):\n",
    "            if a_list[i] + a_list[j] == target:\n",
    "                return (a_list[i], a_list[j])\n",
    "            \n",
    "            \n",
    "            \n",
    "print(two_sum([3,5,2,-4,8], 7))"
   ]
  },
  {
   "cell_type": "code",
   "execution_count": 157,
   "metadata": {},
   "outputs": [
    {
     "name": "stdout",
     "output_type": "stream",
     "text": [
      "(2, 5)\n"
     ]
    }
   ],
   "source": [
    "def two_sum(a_list, target):\n",
    "    num_dict = {}\n",
    "    \n",
    "    for i in range(len(a_list)):\n",
    "        if target - a_list[i] in num_dict:\n",
    "            return (a_list[i], target - a_list[i])\n",
    "        \n",
    "        num_dict[a_list[i]] = i\n",
    "            \n",
    "            \n",
    "print(two_sum([3,5,2,-4,8], 7))"
   ]
  },
  {
   "cell_type": "markdown",
   "metadata": {},
   "source": [
    "#### Video of Algorithms <br>\n",
    "<p>Watch the video about algorithms.</p>\n",
    "\n",
    "https://www.youtube.com/watch?v=Q9HjeFD62Uk\n",
    "\n",
    "https://www.youtube.com/watch?v=kPRA0W1kECg\n",
    "\n",
    "https://www.youtube.com/watch?v=ZZuD6iUe3Pc"
   ]
  },
  {
   "cell_type": "markdown",
   "metadata": {},
   "source": [
    "# Sorting Algorithms"
   ]
  },
  {
   "cell_type": "markdown",
   "metadata": {},
   "source": [
    "#### Bubble Sort\n",
    "\n",
    "Worst Case: O(n^2) Time - O(1) Space"
   ]
  },
  {
   "cell_type": "code",
   "execution_count": 161,
   "metadata": {},
   "outputs": [
    {
     "data": {
      "text/plain": [
       "[-10, 0, 12, 21, 55, 66, 432]"
      ]
     },
     "execution_count": 161,
     "metadata": {},
     "output_type": "execute_result"
    }
   ],
   "source": [
    "# Define an index i at 0, and an index j at i + 1\n",
    "# create a while loop, that runs until the list is sorted\n",
    "# Compare the values at i and j to see if the value at i is greater than j \n",
    "# If it is, swap the values. If it is not, leave the values alone\n",
    "# increment i and j, until j is greater than the index of the last unsorted element\n",
    "# reset i and j to the beginning\n",
    "# If we go through the entire list and do not swap any elements, the list is sorted\n",
    "# and we can exit the loop\n",
    "\n",
    "def bubble_sort(a_list):\n",
    "    i, j = 0, 1\n",
    "    last_unsorted = len(a_list)\n",
    "    is_sorted = False\n",
    "    \n",
    "    while not is_sorted:\n",
    "        is_sorted = True\n",
    "        while j < last_unsorted:\n",
    "            if a_list[i] > a_list[j]:\n",
    "                #swap items\n",
    "                a_list[i], a_list[j] = a_list[j], a_list[i]\n",
    "                is_sorted = False\n",
    "\n",
    "            i += 1\n",
    "            j += 1\n",
    "        \n",
    "        last_unsorted = j - 1\n",
    "        i = 0\n",
    "        j = 1\n",
    "    \n",
    "    return a_list\n",
    "\n",
    "\n",
    "bubble_sort([55,66,12,432,21,0,-10])"
   ]
  },
  {
   "cell_type": "markdown",
   "metadata": {},
   "source": [
    "##### Insertion Sort\n",
    "\n",
    "Worst Case: O(n^2) time - O(1)space"
   ]
  },
  {
   "cell_type": "code",
   "execution_count": 169,
   "metadata": {},
   "outputs": [
    {
     "data": {
      "text/plain": [
       "[-10, 0, 12, 21, 55, 66, 432]"
      ]
     },
     "execution_count": 169,
     "metadata": {},
     "output_type": "execute_result"
    }
   ],
   "source": [
    "# Define an index i at 0\n",
    "# i = sorted\n",
    "# create a while loop that extracts the unsorted element j\n",
    "# and compares it to each element in the sorted portion of the list\n",
    "# if i > j than move i to the right by 1 \n",
    "# if not than break loop and insert j \n",
    "\n",
    "def insertion(a_list):\n",
    "    for i in range(1, len(a_list)):\n",
    "        is_sorted = a_list[i]\n",
    "        j = i-1\n",
    "        while j >= 0 and is_sorted < a_list[j]:\n",
    "            a_list[j + 1] = a_list[j]\n",
    "            j -= 1\n",
    "        a_list[j + 1] = is_sorted\n",
    "    \n",
    "    return a_list\n",
    "        \n",
    "\n",
    "insertion([55,66,12,432,21,0,-10])"
   ]
  },
  {
   "cell_type": "code",
   "execution_count": 173,
   "metadata": {},
   "outputs": [
    {
     "data": {
      "text/plain": [
       "[-20, -10, 21, 432, 550, 660, 800]"
      ]
     },
     "execution_count": 173,
     "metadata": {},
     "output_type": "execute_result"
    }
   ],
   "source": [
    "def insertion(a_list):\n",
    "    for i in range(1, len(a_list)):\n",
    "        is_sorted = a_list[i]\n",
    "        while i > 0 and a_list[i - 1] > is_sorted:\n",
    "            a_list[i] = a_list[i - 1]\n",
    "            i -= 1\n",
    "        a_list[i] = is_sorted\n",
    "    \n",
    "    return a_list\n",
    "        \n",
    "\n",
    "insertion([550,660,800,432,21,-20,-10])"
   ]
  },
  {
   "cell_type": "markdown",
   "metadata": {},
   "source": [
    "## Merge Sort"
   ]
  },
  {
   "cell_type": "markdown",
   "metadata": {},
   "source": [
    "#### How it Works"
   ]
  },
  {
   "cell_type": "code",
   "execution_count": null,
   "metadata": {},
   "outputs": [],
   "source": []
  },
  {
   "cell_type": "markdown",
   "metadata": {},
   "source": [
    "## Binary Search Trees"
   ]
  },
  {
   "cell_type": "code",
   "execution_count": null,
   "metadata": {},
   "outputs": [],
   "source": []
  },
  {
   "cell_type": "markdown",
   "metadata": {},
   "source": [
    "#### In Class Assignment Level Master:\n",
    "invert the binary tree (Reverse it)"
   ]
  },
  {
   "cell_type": "code",
   "execution_count": null,
   "metadata": {},
   "outputs": [],
   "source": []
  },
  {
   "cell_type": "markdown",
   "metadata": {},
   "source": [
    "# Exercises"
   ]
  },
  {
   "cell_type": "markdown",
   "metadata": {},
   "source": [
    "### Exercise #1 <br>\n",
    "<p>Reverse the list below in-place using an in-place algorithm.<br>For extra credit: Reverse the strings at the same time.</p>"
   ]
  },
  {
   "cell_type": "code",
   "execution_count": 210,
   "metadata": {},
   "outputs": [],
   "source": [
    "words = ['this' , 'is', 'a', 'sentence', '.']\n",
    "\n",
    "def reverse(words):\n",
    "    left = 0\n",
    "    right = len(words) - 1\n",
    "    \n",
    "    while left <= right:\n",
    "        words[left], words[right] = words[right], words[left]\n",
    "        \n",
    "        words[left] = words[left][::-1]\n",
    "        words[right] = words[right][::-1]\n",
    "        \n",
    "        left += 1\n",
    "        right -= 1\n",
    "    \n",
    "        \n",
    "    return words"
   ]
  },
  {
   "cell_type": "code",
   "execution_count": 211,
   "metadata": {},
   "outputs": [
    {
     "name": "stdout",
     "output_type": "stream",
     "text": [
      "['this', 'is', 'a', 'sentence', '.']\n",
      "['.', 'ecnetnes', 'a', 'si', 'siht']\n"
     ]
    }
   ],
   "source": [
    "print(words)\n",
    "print(reverse(words))"
   ]
  },
  {
   "cell_type": "markdown",
   "metadata": {},
   "source": [
    "### Exercise #2 <br>\n",
    "<p>Create a function that counts how many distinct words are in the string below, then outputs a dictionary with the words as the key and the value as the amount of times that word appears in the string.<br>Should output:<br>{'a': 5,<br>\n",
    " 'abstract': 1,<br>\n",
    " 'an': 3,<br>\n",
    " 'array': 2, ... etc...</p>"
   ]
  },
  {
   "cell_type": "code",
   "execution_count": 238,
   "metadata": {},
   "outputs": [],
   "source": [
    "text = 'In computing, a hash table hash map is a data structure which implements an associative array abstract data type, a structure that can map keys to values. A hash table uses a hash function to compute an index into an array of buckets or slots from which the desired value can be found'\n",
    "\n",
    "def count(text):\n",
    "    word_count = {}\n",
    "    words = text.split()\n",
    "    for word in words:\n",
    "        if word in word_count:\n",
    "            word_count[word] += 1\n",
    "        else:\n",
    "            word_count[word] = 1\n",
    "            \n",
    "    return word_count\n",
    "            \n",
    "\n",
    "\n"
   ]
  },
  {
   "cell_type": "code",
   "execution_count": 239,
   "metadata": {},
   "outputs": [
    {
     "name": "stdout",
     "output_type": "stream",
     "text": [
      "{'In': 1, 'computing,': 1, 'a': 4, 'hash': 4, 'table': 2, 'map': 2, 'is': 1, 'data': 2, 'structure': 2, 'which': 2, 'implements': 1, 'an': 3, 'associative': 1, 'array': 2, 'abstract': 1, 'type,': 1, 'that': 1, 'can': 2, 'keys': 1, 'to': 2, 'values.': 1, 'A': 1, 'uses': 1, 'function': 1, 'compute': 1, 'index': 1, 'into': 1, 'of': 1, 'buckets': 1, 'or': 1, 'slots': 1, 'from': 1, 'the': 1, 'desired': 1, 'value': 1, 'be': 1, 'found': 1}\n"
     ]
    }
   ],
   "source": [
    "word_count = count(text)\n",
    "print(word_count)"
   ]
  },
  {
   "cell_type": "markdown",
   "metadata": {},
   "source": [
    "## Exercise #3\n",
    "\n",
    "Write a program to implement a Linear Search Algorithm. Also in a comment, write the Time Complexity of the following algorithm.\n",
    "\n",
    "#### Hint: Linear Searching will require searching a list for a given number. "
   ]
  },
  {
   "cell_type": "code",
   "execution_count": null,
   "metadata": {},
   "outputs": [],
   "source": [
    "nums_list = [10,23,45,70,11,15]\n",
    "target = 70\n",
    "\n",
    "# If number is not present return -1\n",
    "            "
   ]
  }
 ],
 "metadata": {
  "kernelspec": {
   "display_name": "Python 3 (ipykernel)",
   "language": "python",
   "name": "python3"
  },
  "language_info": {
   "codemirror_mode": {
    "name": "ipython",
    "version": 3
   },
   "file_extension": ".py",
   "mimetype": "text/x-python",
   "name": "python",
   "nbconvert_exporter": "python",
   "pygments_lexer": "ipython3",
   "version": "3.9.13"
  }
 },
 "nbformat": 4,
 "nbformat_minor": 2
}
